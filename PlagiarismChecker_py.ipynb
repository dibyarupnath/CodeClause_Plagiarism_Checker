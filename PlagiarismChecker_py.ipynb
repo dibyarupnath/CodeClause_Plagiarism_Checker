{
  "nbformat": 4,
  "nbformat_minor": 0,
  "metadata": {
    "colab": {
      "provenance": [],
      "mount_file_id": "1PL1F4zeQ5Df3ZDlLlxDcmsrAMrleqaIR",
      "authorship_tag": "ABX9TyNPQDNJPb2ydbBTRzJmb/3e",
      "include_colab_link": true
    },
    "kernelspec": {
      "name": "python3",
      "display_name": "Python 3"
    },
    "language_info": {
      "name": "python"
    }
  },
  "cells": [
    {
      "cell_type": "markdown",
      "metadata": {
        "id": "view-in-github",
        "colab_type": "text"
      },
      "source": [
        "<a href=\"https://colab.research.google.com/github/dibyarupnath/CodeClause_Plagiarism_Checker/blob/main/PlagiarismChecker_py.ipynb\" target=\"_parent\"><img src=\"https://colab.research.google.com/assets/colab-badge.svg\" alt=\"Open In Colab\"/></a>"
      ]
    },
    {
      "cell_type": "markdown",
      "source": [
        "##Fetching required libraries"
      ],
      "metadata": {
        "id": "8pjsdAr9SEF7"
      }
    },
    {
      "cell_type": "code",
      "execution_count": null,
      "metadata": {
        "id": "pYmdPwuHfAEH"
      },
      "outputs": [],
      "source": [
        "import os\n",
        "from numpy import vectorize \n",
        "from sklearn.feature_extraction.text import TfidfVectorizer\n",
        "from sklearn.metrics.pairwise import cosine_similarity"
      ]
    },
    {
      "cell_type": "code",
      "source": [
        "os.chdir(\"/content/drive/MyDrive/Projects/CodeClause AI Internship/Plagiarism Checker/\")"
      ],
      "metadata": {
        "id": "Sp-04USpUhzl"
      },
      "execution_count": null,
      "outputs": []
    },
    {
      "cell_type": "markdown",
      "source": [
        "## Loading the test files to check for plagiarism later"
      ],
      "metadata": {
        "id": "H1XurMEKSKHh"
      }
    },
    {
      "cell_type": "code",
      "source": [
        "sample_files = [doc for doc in os.listdir() if doc.endswith('.txt')]\n",
        "sample_contents = [open(File).read() for File in sample_files]"
      ],
      "metadata": {
        "id": "tHc_caqsR27b"
      },
      "execution_count": null,
      "outputs": []
    },
    {
      "cell_type": "markdown",
      "source": [
        "## Vectorizing\n",
        "+ Using lambda functions to convert text to array of numbers \n",
        "+ Vectorizing the text using Tfidf"
      ],
      "metadata": {
        "id": "UAUlmuJ9SQmM"
      }
    },
    {
      "cell_type": "code",
      "source": [
        "vectorize = lambda Text: TfidfVectorizer().fit_transform(Text).toarray()"
      ],
      "metadata": {
        "id": "WQyrcZ6YR5Gg"
      },
      "execution_count": null,
      "outputs": []
    },
    {
      "cell_type": "code",
      "source": [
        "similarity = lambda doc1, doc2: cosine_similarity([doc1, doc2])"
      ],
      "metadata": {
        "id": "EatOwWzhR9S6"
      },
      "execution_count": null,
      "outputs": []
    },
    {
      "cell_type": "code",
      "source": [
        "vectors = vectorize(sample_contents)\n",
        "s_vectors = list(zip(sample_files, vectors))"
      ],
      "metadata": {
        "id": "6HyzBO4FR70Y"
      },
      "execution_count": null,
      "outputs": []
    },
    {
      "cell_type": "markdown",
      "source": [
        "## Plagiarism Checker"
      ],
      "metadata": {
        "id": "nBMPzh2XSW9O"
      }
    },
    {
      "cell_type": "code",
      "source": [
        "def check_plagiarism():\n",
        "    results = set()\n",
        "    global s_vectors\n",
        "    for sample_a, text_vector_a in s_vectors:\n",
        "        new_vectors = s_vectors.copy()\n",
        "        current_index = new_vectors.index((sample_a, text_vector_a))\n",
        "        del new_vectors[current_index]\n",
        "        for sample_b, text_vector_b in new_vectors:\n",
        "            sim_score = similarity(text_vector_a, text_vector_b)[0][1]\n",
        "            sample_pair = sorted((sample_a, sample_b))\n",
        "            score = sample_pair[0], sample_pair[1], sim_score\n",
        "            results.add(score)\n",
        "    return results"
      ],
      "metadata": {
        "id": "CEz6gXRTR_3v"
      },
      "execution_count": null,
      "outputs": []
    },
    {
      "cell_type": "markdown",
      "source": [
        "## Testing the Plagiarism Checker"
      ],
      "metadata": {
        "id": "BBTgVcTsSZU4"
      }
    },
    {
      "cell_type": "code",
      "source": [
        "for data in check_plagiarism():\n",
        "    print(data)"
      ],
      "metadata": {
        "id": "639WddU7SCNM",
        "colab": {
          "base_uri": "https://localhost:8080/"
        },
        "outputId": "db5f377c-27ea-48fa-9c2a-e02d5afa7e46"
      },
      "execution_count": null,
      "outputs": [
        {
          "output_type": "stream",
          "name": "stdout",
          "text": [
            "('artificial-intelligence.txt', 'environmental-pollution-2.txt', 0.23575336200723218)\n",
            "('environmental-pollution-2.txt', 'internet.txt', 0.21772691345311806)\n",
            "('artificial-intelligence.txt', 'environmental-pollution.txt', 0.2621776128782791)\n",
            "('artificial-intelligence.txt', 'internet.txt', 0.2589825475776815)\n",
            "('artificial-intelligence-2.txt', 'environmental-pollution-2.txt', 0.2844393682206794)\n",
            "('artificial-intelligence-2.txt', 'internet.txt', 0.2645777745720631)\n",
            "('artificial-intelligence-2.txt', 'internet-2.txt', 0.4275673317760499)\n",
            "('artificial-intelligence-2.txt', 'artificial-intelligence.txt', 0.40973120483887754)\n",
            "('environmental-pollution.txt', 'internet.txt', 0.41300636805603264)\n",
            "('environmental-pollution-2.txt', 'internet-2.txt', 0.3069336737431845)\n",
            "('environmental-pollution-2.txt', 'environmental-pollution.txt', 0.43936926094815654)\n",
            "('artificial-intelligence-2.txt', 'environmental-pollution.txt', 0.30081344260255727)\n",
            "('artificial-intelligence.txt', 'internet-2.txt', 0.31358152627490415)\n",
            "('internet-2.txt', 'internet.txt', 0.5853714807971113)\n",
            "('environmental-pollution.txt', 'internet-2.txt', 0.40921178795211643)\n"
          ]
        }
      ]
    },
    {
      "cell_type": "markdown",
      "source": [
        "## Explanation \n",
        "I chose 3 topics for essays: environmental pollution, artificial intelligence and the internet. Then i googled 2 essays for each topic and pasted them into text files. \n",
        "\n",
        "We can see that unsurprisingly, the similarity between artificial-intelligence.txt and environmental-pollution-2.txt is only 0.2357 => 23.6%\n",
        "\n",
        "and the similarity between artificial-intelligence-2.txt and artificial-intelligence.txt is a whopping 40.9%\n",
        "\n",
        "and so on, taking a look at the amounts of similarity, we can understand that the plagiarism checker does a fair job at detecting similarities."
      ],
      "metadata": {
        "id": "vrqciCCxYswz"
      }
    },
    {
      "cell_type": "code",
      "source": [],
      "metadata": {
        "id": "IglT_yWWaYog"
      },
      "execution_count": null,
      "outputs": []
    }
  ]
}